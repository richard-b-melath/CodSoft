{
  "nbformat": 4,
  "nbformat_minor": 0,
  "metadata": {
    "colab": {
      "provenance": []
    },
    "kernelspec": {
      "name": "python3",
      "display_name": "Python 3"
    },
    "language_info": {
      "name": "python"
    }
  },
  "cells": [
    {
      "cell_type": "code",
      "execution_count": 2,
      "metadata": {
        "colab": {
          "base_uri": "https://localhost:8080/"
        },
        "id": "Js9jwHyxbYPg",
        "outputId": "466a3496-9738-4e50-9aa3-8d758f66ea3e"
      },
      "outputs": [
        {
          "output_type": "stream",
          "name": "stdout",
          "text": [
            "Recommended books: ['The Lost Hero', \"Magic's Promise\", 'Taran Wanderer', 'The Eyes of the Overworld', 'Thendara House']\n"
          ]
        }
      ],
      "source": [
        "import pandas as pd\n",
        "from sklearn.feature_extraction.text import TfidfVectorizer\n",
        "from sklearn.metrics.pairwise import cosine_similarity\n",
        "\n",
        "# Load and preprocess the dataset\n",
        "df = pd.read_csv(\"data.csv\", engine=\"python\")\n",
        "df = df[[\"title\", \"genre\",]].dropna().reset_index(drop=True)\n",
        "df = df[:5500]\n",
        "\n",
        "df['genre'] = df['genre'].str.replace('[', '', regex=False).str.replace(']', '', regex=False).str.replace(\"'\", \"\", regex=False).str.replace(',', ' ', regex=False)\n",
        "df['genre'] = df['genre'].str.lower()\n",
        "\n",
        "\n",
        "\n",
        "\n",
        "tfidf = TfidfVectorizer(stop_words='english')\n",
        "\n",
        "\n",
        "tfidf_matrix = tfidf.fit_transform(df['genre'])\n",
        "\n",
        "\n",
        "similarity_matrix = cosine_similarity(tfidf_matrix, tfidf_matrix)\n",
        "\n",
        "def recommend_by_genre(genre, num_recommendations=10):\n",
        "\n",
        "    filtered_df = df[df['genre'].str.contains(genre.lower(), case=False)]\n",
        "\n",
        "    if filtered_df.empty:\n",
        "        return f\"No movies found for genre '{genre}'.\"\n",
        "\n",
        "\n",
        "    recommended_books = []\n",
        "\n",
        "    for idx in filtered_df.index:\n",
        "\n",
        "        sim_scores = list(enumerate(similarity_matrix[idx]))\n",
        "\n",
        "\n",
        "        sim_scores = sorted(sim_scores, key=lambda x: x[1], reverse=True)\n",
        "\n",
        "\n",
        "        sim_scores = sim_scores[1:num_recommendations + 1]  # Exclude the input movie itself\n",
        "\n",
        "\n",
        "        movie_indices = [i[0] for i in sim_scores]\n",
        "        top_movies = df['title'].iloc[movie_indices].tolist()\n",
        "        recommended_books.extend(top_movies)\n",
        "\n",
        "\n",
        "    recommended_books = list(set(recommended_books))\n",
        "\n",
        "    return recommended_books[:num_recommendations]\n",
        "\n",
        "\n",
        "recommended_books = recommend_by_genre(\"fantasy\", num_recommendations=5)\n",
        "print(\"Recommended books:\", recommended_books)"
      ]
    },
    {
      "cell_type": "code",
      "source": [
        "recommended_books = recommend_by_genre(input(\"Enter the genre of the book : \"), num_recommendations=5)\n",
        "print()\n",
        "for i in recommended_books:\n",
        "  print(i)"
      ],
      "metadata": {
        "colab": {
          "base_uri": "https://localhost:8080/"
        },
        "id": "zOUw6SklgPwD",
        "outputId": "770a2d1d-bfea-47ef-9812-e6e3176a9426"
      },
      "execution_count": 5,
      "outputs": [
        {
          "output_type": "stream",
          "name": "stdout",
          "text": [
            "Enter the genre of the book : horror\n",
            "\n",
            "The Invisible Man\n",
            "The Amityville Curse\n",
            "The Keep\n",
            "Misery\n",
            "The Boats of the \"Glen Carrig\"\n"
          ]
        }
      ]
    }
  ]
}