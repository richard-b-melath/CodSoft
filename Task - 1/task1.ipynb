{
  "nbformat": 4,
  "nbformat_minor": 0,
  "metadata": {
    "colab": {
      "provenance": []
    },
    "kernelspec": {
      "name": "python3",
      "display_name": "Python 3"
    },
    "language_info": {
      "name": "python"
    }
  },
  "cells": [
    {
      "cell_type": "code",
      "execution_count": null,
      "metadata": {
        "colab": {
          "base_uri": "https://localhost:8080/"
        },
        "id": "pA2qK3pPejKT",
        "outputId": "87546290-6b57-4abe-f04b-a999e07c680a"
      },
      "outputs": [
        {
          "output_type": "stream",
          "name": "stdout",
          "text": [
            "Good Morning Sir!\n",
            "USER : Bye\n",
            "BOT : I couldn't understand\n",
            "USER : bye\n",
            "BOT : Ok, Sir see you soon\n"
          ]
        }
      ],
      "source": [
        "import datetime\n",
        "\n",
        "Time = datetime.datetime.now()\n",
        "\n",
        "def wish():\n",
        "    hour = int(datetime.datetime.now().hour)\n",
        "    if hour>0 and hour<12:\n",
        "        return(\"Good Morning!\")\n",
        "\n",
        "    elif hour>=12 and hour<15:\n",
        "        return(\"Good afternoon!\")\n",
        "\n",
        "    else:\n",
        "        return(\"Good Evening!\")\n",
        "\n",
        "while True:\n",
        "    print(\"USER : \",end=\"\")\n",
        "    query = input()\n",
        "    print(\"BOT : \",end=\"\")\n",
        "    if \"hello\" in query or \"hi\" in query:\n",
        "        print(\"Hi, how can i help you\")\n",
        "    elif \"your name\" in query or \"who are you\" in query:\n",
        "        print(\"Hi, I am Jarvis, a ChatBot 😊\")\n",
        "        print(\"       can I help you\")\n",
        "    elif \"time now\" in query:\n",
        "        print(\"Sir the time is : \",Time)\n",
        "    elif \"bye\" in query:\n",
        "        print(\"Ok, Sir see you soon\")\n",
        "        break\n",
        "    else:\n",
        "        print(\"I couldn't understand\")"
      ]
    }
  ]
}